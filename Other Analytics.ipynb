{
 "cells": [
  {
   "cell_type": "code",
   "execution_count": 15,
   "metadata": {},
   "outputs": [],
   "source": [
    "import pandas as pd"
   ]
  },
  {
   "cell_type": "code",
   "execution_count": 16,
   "metadata": {},
   "outputs": [
    {
     "data": {
      "text/html": [
       "<div>\n",
       "<style scoped>\n",
       "    .dataframe tbody tr th:only-of-type {\n",
       "        vertical-align: middle;\n",
       "    }\n",
       "\n",
       "    .dataframe tbody tr th {\n",
       "        vertical-align: top;\n",
       "    }\n",
       "\n",
       "    .dataframe thead th {\n",
       "        text-align: right;\n",
       "    }\n",
       "</style>\n",
       "<table border=\"1\" class=\"dataframe\">\n",
       "  <thead>\n",
       "    <tr style=\"text-align: right;\">\n",
       "      <th></th>\n",
       "      <th>City</th>\n",
       "      <th>Region</th>\n",
       "      <th>Date</th>\n",
       "      <th>Hour</th>\n",
       "      <th>Country</th>\n",
       "    </tr>\n",
       "  </thead>\n",
       "  <tbody>\n",
       "    <tr>\n",
       "      <th>0</th>\n",
       "      <td>M'Sila</td>\n",
       "      <td>M'Sila</td>\n",
       "      <td>5-8-2023</td>\n",
       "      <td>8</td>\n",
       "      <td>DZ</td>\n",
       "    </tr>\n",
       "    <tr>\n",
       "      <th>1</th>\n",
       "      <td>M'Sila</td>\n",
       "      <td>M'Sila</td>\n",
       "      <td>5-8-2023</td>\n",
       "      <td>8</td>\n",
       "      <td>DZ</td>\n",
       "    </tr>\n",
       "  </tbody>\n",
       "</table>\n",
       "</div>"
      ],
      "text/plain": [
       "     City  Region      Date  Hour Country\n",
       "0  M'Sila  M'Sila  5-8-2023     8      DZ\n",
       "1  M'Sila  M'Sila  5-8-2023     8      DZ"
      ]
     },
     "execution_count": 16,
     "metadata": {},
     "output_type": "execute_result"
    }
   ],
   "source": [
    "df = pd.read_csv(\"App visits.csv\")[['City','Region','Date','Hour','Country']]\n",
    "df"
   ]
  },
  {
   "cell_type": "code",
   "execution_count": 17,
   "metadata": {},
   "outputs": [],
   "source": [
    "Cities = df.groupby(['City']).size().reset_index(name='Count')\n",
    "Regions = df.groupby(['Region']).size().reset_index(name='Count')\n",
    "Dates = df.groupby(['Date']).size().reset_index(name='Count')\n",
    "Hour = df.groupby(['Hour']).size().reset_index(name='Count')\n",
    "Country = df.groupby(['Country']).size().reset_index(name='Count')\n"
   ]
  },
  {
   "cell_type": "code",
   "execution_count": 19,
   "metadata": {},
   "outputs": [],
   "source": [
    "Cities.to_json(\"Visits per city\",orient=\"records\")\n",
    "Regions.to_json(\"Visits per region\",orient=\"records\")\n",
    "Dates.to_json(\"Visites per day\",orient=\"records\")\n",
    "Hour.to_json(\"Visites per Hour\",orient=\"records\")\n",
    "Country.to_json(\"Visits per Country\",orient=\"records\")"
   ]
  }
 ],
 "metadata": {
  "kernelspec": {
   "display_name": "Python 3.11.5 64-bit (microsoft store)",
   "language": "python",
   "name": "python3"
  },
  "language_info": {
   "codemirror_mode": {
    "name": "ipython",
    "version": 3
   },
   "file_extension": ".py",
   "mimetype": "text/x-python",
   "name": "python",
   "nbconvert_exporter": "python",
   "pygments_lexer": "ipython3",
   "version": "3.11.5"
  },
  "orig_nbformat": 4,
  "vscode": {
   "interpreter": {
    "hash": "b365a6c9ebcae92d26abc4b1d61256b03592a60592f2f5c979014a722ae38b9a"
   }
  }
 },
 "nbformat": 4,
 "nbformat_minor": 2
}
